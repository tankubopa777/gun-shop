{
 "cells": [
  {
   "cell_type": "code",
   "execution_count": 17,
   "metadata": {},
   "outputs": [
    {
     "name": "stdout",
     "output_type": "stream",
     "text": [
      "{'id': 1, 'product_name': 'Vanguard Viper XR Tactical Rifle', 'product_type': 'Tactical Rifle', 'product_description': 'Engineered for ultimate precision, this tactical rifle features a 20-inch stainless steel barrel, fully adjustable stock, and modular accessory rail system. Ideal for serious shooters in competitive or tactical scenarios.', 'product_image': None, 'product_price': 1200.0, 'product_quantity': 10, 'reviews': None, 'saled': 0, 'reviews_quantity': 0, 'positive': 0, 'negative': 0}\n"
     ]
    }
   ],
   "source": [
    "import requests\n",
    "id = 1\n",
    "url = f\"http://127.0.0.1:8001/product/getproductsByID/%7Bid%7D?type={id}\"\n",
    "try:\n",
    "    product = requests.get(url)\n",
    "    product = product.json()\n",
    "    response = product[\"Product\"]\n",
    "\n",
    "    print(response)\n",
    "except Exception as e:\n",
    "    raise(e)\n"
   ]
  },
  {
   "cell_type": "code",
   "execution_count": 19,
   "metadata": {},
   "outputs": [
    {
     "name": "stdout",
     "output_type": "stream",
     "text": [
      "{'id': 1, 'product_name': 'Vanguard Viper XR Tactical Rifle', 'product_type': 'Tactical Rifle', 'product_description': 'Engineered for ultimate precision, this tactical rifle features a 20-inch stainless steel barrel, fully adjustable stock, and modular accessory rail system. Ideal for serious shooters in competitive or tactical scenarios.', 'product_image': None, 'product_price': 1200.0, 'product_quantity': 10, 'reviews': None, 'saled': 0, 'reviews_quantity': 0, 'positive': 0, 'negative': 0}\n"
     ]
    }
   ],
   "source": [
    "def getproductByID(id):\n",
    "    url = f\"http://127.0.0.1:8001/product/getproductsByID/%7Bid%7D?type={id}\"\n",
    "    try:\n",
    "        product = requests.get(url)\n",
    "        product = product.json()\n",
    "        response = product[\"Product\"]\n",
    "\n",
    "        return response\n",
    "    except Exception as e:\n",
    "        raise (e)\n",
    "    \n",
    "test = getproductByID(1)\n",
    "print(test)"
   ]
  },
  {
   "cell_type": "code",
   "execution_count": 23,
   "metadata": {},
   "outputs": [
    {
     "name": "stdout",
     "output_type": "stream",
     "text": [
      "{'id': 1, 'product_name': 'Vanguard Viper XR Tactical Rifle', 'product_type': 'Tactical Rifle', 'product_description': 'Engineered for ultimate precision, this tactical rifle features a 20-inch stainless steel barrel, fully adjustable stock, and modular accessory rail system. Ideal for serious shooters in competitive or tactical scenarios.', 'product_image': None, 'product_price': 1200.0, 'product_quantity': 10, 'reviews': None, 'saled': 0, 'reviews_quantity': 0, 'positive': 0, 'negative': 0}\n"
     ]
    }
   ],
   "source": [
    "def getproductByID(id):\n",
    "    # Ensure the URL correctly incorporates the product ID\n",
    "    url = f\"http://127.0.0.1:8001/product/getproductsByID/{id}?type={id}\"\n",
    "    try:\n",
    "        product = requests.get(url)\n",
    "        product = product.json()\n",
    "        response = product[\"Product\"]\n",
    "\n",
    "        return response\n",
    "    except Exception as e:\n",
    "        # Enhanced error handling to log the issue\n",
    "        print(f\"Failed to fetch product with ID {id}: {str(e)}\")\n",
    "        raise e\n",
    "    \n",
    "data = getproductByID(id)\n",
    "print(data)"
   ]
  },
  {
   "cell_type": "code",
   "execution_count": null,
   "metadata": {},
   "outputs": [],
   "source": []
  }
 ],
 "metadata": {
  "kernelspec": {
   "display_name": "aienv",
   "language": "python",
   "name": "python3"
  },
  "language_info": {
   "codemirror_mode": {
    "name": "ipython",
    "version": 3
   },
   "file_extension": ".py",
   "mimetype": "text/x-python",
   "name": "python",
   "nbconvert_exporter": "python",
   "pygments_lexer": "ipython3",
   "version": "3.10.13"
  }
 },
 "nbformat": 4,
 "nbformat_minor": 2
}
